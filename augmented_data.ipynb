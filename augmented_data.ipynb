{
 "cells": [
  {
   "cell_type": "markdown",
   "id": "efbfcd7d",
   "metadata": {},
   "source": [
    "INI UNTUK MENAMBAHKAN DATA SETIAP KELAS . DENGAN MENAMBAH ATAU MENGURANGI RSSI SEKITAR -5 SAMPAI +5"
   ]
  },
  {
   "cell_type": "code",
   "execution_count": 64,
   "id": "9ef278df",
   "metadata": {},
   "outputs": [],
   "source": [
    "import pandas as pd\n",
    "import numpy as np  "
   ]
  },
  {
   "cell_type": "code",
   "execution_count": 65,
   "id": "05932ce5",
   "metadata": {},
   "outputs": [],
   "source": [
    "df = pd.read_excel(\"data_mentah_rektorat.xlsx\") "
   ]
  },
  {
   "cell_type": "code",
   "execution_count": 66,
   "id": "f31bb401",
   "metadata": {},
   "outputs": [],
   "source": [
    "# Tambahkan label lantai ke nama ruangan jika belum ada\n",
    "def tambahkan_label_lantai(row):\n",
    "    if f\"(LT{row['Lantai']})\" not in row['Ruangan']:\n",
    "        return f\"{row['Ruangan']} (LT{row['Lantai']})\"\n",
    "    return row['Ruangan']\n",
    "\n",
    "df['Ruangan'] = df.apply(tambahkan_label_lantai, axis=1)\n"
   ]
  },
  {
   "cell_type": "code",
   "execution_count": 67,
   "id": "99a08014",
   "metadata": {},
   "outputs": [],
   "source": [
    "import pandas as pd\n",
    "import numpy as np\n",
    "\n",
    "# Tempat menyimpan data baru\n",
    "augmented_rows = []\n",
    "\n",
    "jumlah_baris = 35 # Jumlah baris yang ingin ditambahkan\n",
    "\n",
    "\n",
    "\n",
    "# Lakukan augmentasi data\n",
    "for ruangan, group in df.groupby('Ruangan'):\n",
    "    for _ in range(jumlah_baris):\n",
    "        sample = group.sample(1, replace=True)\n",
    "        new_row = sample.copy()\n",
    "        # Tambahkan noise ke RSSI (fluktuasi -5 sampai +5 dBm)\n",
    "        new_row['RSSI'] = new_row['RSSI'] + np.random.randint(-5, 6)\n",
    "        augmented_rows.append(new_row)\n",
    "\n",
    "# Gabungkan data asli dengan hasil augmentasi\n",
    "augmented_df = pd.concat([df, pd.concat(augmented_rows)], ignore_index=True)\n",
    "\n",
    "# Urutkan berdasarkan Ruangan dan Lantai\n",
    "augmented_df = augmented_df.sort_values(by=['Lantai', 'Ruangan'])\n",
    "\n",
    "# Simpan ke CSV\n",
    "augmented_df.to_csv(f\"data_tambahan_{jumlah_baris}_baris_perkelas.csv\", index=False)\n"
   ]
  }
 ],
 "metadata": {
  "kernelspec": {
   "display_name": "Python 3",
   "language": "python",
   "name": "python3"
  },
  "language_info": {
   "codemirror_mode": {
    "name": "ipython",
    "version": 3
   },
   "file_extension": ".py",
   "mimetype": "text/x-python",
   "name": "python",
   "nbconvert_exporter": "python",
   "pygments_lexer": "ipython3",
   "version": "3.12.3"
  }
 },
 "nbformat": 4,
 "nbformat_minor": 5
}
